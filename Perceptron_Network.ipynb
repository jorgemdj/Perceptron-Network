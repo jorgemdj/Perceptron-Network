{
  "nbformat": 4,
  "nbformat_minor": 0,
  "metadata": {
    "colab": {
      "provenance": [],
      "authorship_tag": "ABX9TyP/O2dozSPhaDRkyn/H6bCg",
      "include_colab_link": true
    },
    "kernelspec": {
      "name": "python3",
      "display_name": "Python 3"
    },
    "language_info": {
      "name": "python"
    }
  },
  "cells": [
    {
      "cell_type": "markdown",
      "metadata": {
        "id": "view-in-github",
        "colab_type": "text"
      },
      "source": [
        "<a href=\"https://colab.research.google.com/github/jorgemdj/Perceptron-Network/blob/main/Perceptron_Network.ipynb\" target=\"_parent\"><img src=\"https://colab.research.google.com/assets/colab-badge.svg\" alt=\"Open In Colab\"/></a>"
      ]
    },
    {
      "cell_type": "code",
      "execution_count": 1,
      "metadata": {
        "id": "P9ABp9ngnf56"
      },
      "outputs": [],
      "source": [
        "import pandas as pd\n",
        "import numpy as np\n",
        "import matplotlib.pyplot as plt\n",
        "\n",
        "data = pd.read_excel('/content/Tabela#Seção3.6_RNA.xls')"
      ]
    },
    {
      "cell_type": "code",
      "source": [
        "#setting entrance parameters\n",
        "\n",
        "entrance = np.array(data.drop('d', axis=1))\n",
        "exit = np.array(data.drop(['x1','x2','x3'], axis=1))"
      ],
      "metadata": {
        "id": "Ez2T5WEonpVL"
      },
      "execution_count": 2,
      "outputs": []
    },
    {
      "cell_type": "code",
      "source": [
        "#addding a [-1] collumn to X sheets to use W[0] as a random limiar activation as a sum of other random determined numbers W[i]+...+W[n]\n",
        "\n",
        "X = np.hstack((np.ones_like(exit)*(-1),entrance))\n",
        "Y = exit\n",
        "\n",
        "input_neurons = X.shape[1]\n",
        "output_neurons = 1\n",
        "\n",
        "#adding seed to analyze results\n",
        "np.random.seed(12)\n",
        "W = np.random.random_sample((output_neurons,input_neurons)).T\n",
        "print(W)"
      ],
      "metadata": {
        "colab": {
          "base_uri": "https://localhost:8080/"
        },
        "id": "yJjgo5_dw89M",
        "outputId": "ab5d2445-b7b6-430b-8c0b-4f604fb7834e"
      },
      "execution_count": 48,
      "outputs": [
        {
          "output_type": "stream",
          "name": "stdout",
          "text": [
            "[[0.15416284]\n",
            " [0.7400497 ]\n",
            " [0.26331502]\n",
            " [0.53373939]]\n"
          ]
        }
      ]
    },
    {
      "cell_type": "code",
      "source": [
        "def perceptron(x, y, z, learning_rate, t):\n",
        "\n",
        "  #Response Vector\n",
        "  ycaret_vec = np.zeros_like(Y)\n",
        "\n",
        "\n",
        "  epoch = 0\n",
        "\n",
        "  while epoch < t:\n",
        "    for i in range(0, x.shape[0]):\n",
        "\n",
        "      #Summation Input Data:\n",
        "      f = np.dot(x[i], W)\n",
        "\n",
        "      #Conditional Activation Function (Bipolar Step):\n",
        "      if f > z:\n",
        "        ycaret_vec[i] = 1\n",
        "      else:\n",
        "        ycaret_vec[i] = -1\n",
        "\n",
        "      #Updating of weights:\n",
        "      if ycaret_vec[i] != Y[i]:\n",
        "        for j in range(0, len(W)):\n",
        "          W[j] = W[j] + learning_rate*(y[i] - ycaret_vec[i])*x[i][j]\n",
        "\n",
        "      else: continue\n",
        "\n",
        "    epoch += 1\n",
        "\n",
        "    error = 0\n",
        "\n",
        "    #Accounting for errors:\n",
        "    for i in range(0, Y.shape[0]):\n",
        "        if ycaret_vec[i] != Y[i]:\n",
        "          error += 1\n",
        "        else: continue\n",
        "\n",
        "    #Custom Output:\n",
        "    if int((epoch)%(t/15)) == 0:\n",
        "        print(f'Epoch:  [{epoch} / {t}] error: {error} / {Y.shape[0]} [{100*error/Y.shape[0]:.2f}% ]')\n",
        "\n",
        "\n",
        "  #Check final results:\n",
        "  return W.T, ycaret_vec.T, Y.T\n",
        "\n"
      ],
      "metadata": {
        "id": "ok22N5UX1L51"
      },
      "execution_count": 49,
      "outputs": []
    },
    {
      "cell_type": "code",
      "source": [
        "x=X\n",
        "y=Y\n",
        "z=0\n",
        "learning_rate = 0.01\n",
        "t=350\n",
        "\n",
        "\n",
        "perceptron(x, y, z, learning_rate, t)"
      ],
      "metadata": {
        "colab": {
          "base_uri": "https://localhost:8080/"
        },
        "id": "oXOLmH7j7gVo",
        "outputId": "323343b4-8da4-4575-f389-c7c96120c10b"
      },
      "execution_count": 50,
      "outputs": [
        {
          "output_type": "stream",
          "name": "stdout",
          "text": [
            "Epoch:  [24 / 350] error: 10 / 30 [33.33% ]\n",
            "Epoch:  [47 / 350] error: 7 / 30 [23.33% ]\n",
            "Epoch:  [70 / 350] error: 7 / 30 [23.33% ]\n",
            "Epoch:  [94 / 350] error: 8 / 30 [26.67% ]\n",
            "Epoch:  [117 / 350] error: 5 / 30 [16.67% ]\n",
            "Epoch:  [140 / 350] error: 5 / 30 [16.67% ]\n",
            "Epoch:  [164 / 350] error: 8 / 30 [26.67% ]\n",
            "Epoch:  [187 / 350] error: 3 / 30 [10.00% ]\n",
            "Epoch:  [210 / 350] error: 4 / 30 [13.33% ]\n",
            "Epoch:  [234 / 350] error: 7 / 30 [23.33% ]\n",
            "Epoch:  [257 / 350] error: 6 / 30 [20.00% ]\n",
            "Epoch:  [280 / 350] error: 8 / 30 [26.67% ]\n",
            "Epoch:  [304 / 350] error: 6 / 30 [20.00% ]\n",
            "Epoch:  [327 / 350] error: 2 / 30 [6.67% ]\n",
            "Epoch:  [350 / 350] error: 0 / 30 [0.00% ]\n"
          ]
        },
        {
          "output_type": "execute_result",
          "data": {
            "text/plain": [
              "(array([[-2.90583716,  1.4278137 ,  2.39816502, -0.67725061]]),\n",
              " array([[-1, -1, -1,  1,  1, -1,  1, -1,  1,  1, -1,  1, -1, -1, -1, -1,\n",
              "          1,  1,  1,  1, -1,  1,  1,  1,  1, -1, -1,  1, -1,  1]]),\n",
              " array([[-1, -1, -1,  1,  1, -1,  1, -1,  1,  1, -1,  1, -1, -1, -1, -1,\n",
              "          1,  1,  1,  1, -1,  1,  1,  1,  1, -1, -1,  1, -1,  1]]))"
            ]
          },
          "metadata": {},
          "execution_count": 50
        }
      ]
    },
    {
      "cell_type": "code",
      "source": [
        "#Validation:\n",
        "\n",
        "test = pd.read_excel('/content/Tabela#3.3_RNA.xls')\n",
        "\n",
        "#Adding [-1] collumn as the training set\n",
        "entrance_test = np.array(test)\n",
        "X_test = np.hstack((np.ones((entrance_test.shape[0],1))*(-1),entrance_test))\n",
        "\n",
        "#Getting W from the training\n",
        "W_test = np.copy(W)\n",
        "W_test"
      ],
      "metadata": {
        "colab": {
          "base_uri": "https://localhost:8080/"
        },
        "id": "rRnpbaPJvlMc",
        "outputId": "3aa9b0c1-44e5-4036-d568-290906acd3b7"
      },
      "execution_count": 51,
      "outputs": [
        {
          "output_type": "execute_result",
          "data": {
            "text/plain": [
              "array([[-2.90583716],\n",
              "       [ 1.4278137 ],\n",
              "       [ 2.39816502],\n",
              "       [-0.67725061]])"
            ]
          },
          "metadata": {},
          "execution_count": 51
        }
      ]
    },
    {
      "cell_type": "code",
      "source": [
        "#Answers:\n",
        "\n",
        "def matrix_bipolar_step(z: np.ndarray):\n",
        "  for i in range(z.shape[0]):\n",
        "    for j in range(z.shape[1]):\n",
        "      if z[i,j]>= 0:\n",
        "        z[i,j] = 1\n",
        "      else:\n",
        "        z[i,j] = -1\n",
        "  return z\n",
        "\n",
        "Y_test = np.dot(X_test,W_test)\n",
        "matrix_bipolar_step(Y_test)"
      ],
      "metadata": {
        "colab": {
          "base_uri": "https://localhost:8080/"
        },
        "id": "gO_e6_KZwAVF",
        "outputId": "32af5df9-c90d-41ea-9438-b0dbce428b2d"
      },
      "execution_count": 56,
      "outputs": [
        {
          "output_type": "execute_result",
          "data": {
            "text/plain": [
              "array([[-1.],\n",
              "       [ 1.],\n",
              "       [ 1.],\n",
              "       [ 1.],\n",
              "       [ 1.],\n",
              "       [ 1.],\n",
              "       [-1.],\n",
              "       [ 1.],\n",
              "       [-1.],\n",
              "       [-1.]])"
            ]
          },
          "metadata": {},
          "execution_count": 56
        }
      ]
    }
  ]
}