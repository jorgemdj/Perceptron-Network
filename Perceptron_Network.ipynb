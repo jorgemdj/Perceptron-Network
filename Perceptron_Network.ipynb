{
  "nbformat": 4,
  "nbformat_minor": 0,
  "metadata": {
    "colab": {
      "provenance": [],
      "authorship_tag": "ABX9TyNpOfE+QKb1CBXaU0vQS8FG",
      "include_colab_link": true
    },
    "kernelspec": {
      "name": "python3",
      "display_name": "Python 3"
    },
    "language_info": {
      "name": "python"
    }
  },
  "cells": [
    {
      "cell_type": "markdown",
      "metadata": {
        "id": "view-in-github",
        "colab_type": "text"
      },
      "source": [
        "<a href=\"https://colab.research.google.com/github/jorgemdj/Perceptron-Network/blob/main/Perceptron_Network.ipynb\" target=\"_parent\"><img src=\"https://colab.research.google.com/assets/colab-badge.svg\" alt=\"Open In Colab\"/></a>"
      ]
    },
    {
      "cell_type": "code",
      "execution_count": 26,
      "metadata": {
        "id": "P9ABp9ngnf56"
      },
      "outputs": [],
      "source": [
        "import pandas as pd\n",
        "import numpy as np\n",
        "import matplotlib.pyplot as plt\n",
        "\n",
        "data = pd.read_excel('/content/Tabela#Seção3.6_RNA.xls')"
      ]
    },
    {
      "cell_type": "code",
      "source": [
        "#setting entrance parameters\n",
        "\n",
        "entrance = np.array(data.drop('d', axis=1))\n",
        "exit = np.array(data.drop(['x1','x2','x3'], axis=1))"
      ],
      "metadata": {
        "id": "Ez2T5WEonpVL"
      },
      "execution_count": 27,
      "outputs": []
    },
    {
      "cell_type": "code",
      "source": [
        "#addding a [-1] collumn to X sheets to use W[0] as a random limiar activation as a sum of other random determined numbers W[i]+...+W[n]\n",
        "\n",
        "X = np.hstack((np.ones_like(exit)*(-1),entrance))\n",
        "Y = exit\n",
        "\n",
        "input_neurons = X.shape[1]\n",
        "output_neurons = 1\n",
        "\n",
        "#adding seed to analyze results\n",
        "np.random.seed(12)\n",
        "W = np.random.random_sample((output_neurons,input_neurons)).T\n",
        "print(W)"
      ],
      "metadata": {
        "colab": {
          "base_uri": "https://localhost:8080/"
        },
        "id": "yJjgo5_dw89M",
        "outputId": "125b330e-3368-42f0-de56-4ca11f6b1258"
      },
      "execution_count": 28,
      "outputs": [
        {
          "output_type": "stream",
          "name": "stdout",
          "text": [
            "[[0.15416284]\n",
            " [0.7400497 ]\n",
            " [0.26331502]\n",
            " [0.53373939]]\n"
          ]
        }
      ]
    },
    {
      "cell_type": "code",
      "source": [
        "def perceptron(x, y, z, learning_rate):\n",
        "\n",
        "  #Response Vector\n",
        "  ycaret_vec = np.zeros_like(Y)\n",
        "\n",
        "\n",
        "  epoch = 0\n",
        "  E = True\n",
        "\n",
        "  while E == True:\n",
        "    for i in range(0, x.shape[0]):\n",
        "\n",
        "      #Summation Input Data:\n",
        "      f = np.dot(x[i], W)\n",
        "\n",
        "      #Conditional Activation Function (Bipolar Step):\n",
        "      if f > z:\n",
        "        ycaret_vec[i] = 1\n",
        "      else:\n",
        "        ycaret_vec[i] = -1\n",
        "\n",
        "      #Updating of weights:\n",
        "      if ycaret_vec[i] != Y[i]:\n",
        "        for j in range(0, len(W)):\n",
        "          W[j] = W[j] + learning_rate*(y[i] - ycaret_vec[i])*x[i][j]\n",
        "\n",
        "      else: continue\n",
        "\n",
        "    epoch += 1\n",
        "\n",
        "    error = 0\n",
        "\n",
        "    #Accounting for errors:\n",
        "    for i in range(0, Y.shape[0]):\n",
        "        if ycaret_vec[i] != Y[i]:\n",
        "          error += 1\n",
        "        else: continue\n",
        "\n",
        "    if error == 0:\n",
        "      E = False\n",
        "\n",
        "    #Custom Output:\n",
        "    elif int((epoch)%(15)) == 0:\n",
        "        print(f'Epoch:  [{epoch}] error: {error} / {Y.shape[0]} [{100*error/Y.shape[0]:.2f}% ]')\n",
        "\n",
        "    else: continue\n",
        "\n",
        "\n",
        "  #Check final results:\n",
        "  return W.T, epoch\n",
        "\n"
      ],
      "metadata": {
        "id": "ok22N5UX1L51"
      },
      "execution_count": 29,
      "outputs": []
    },
    {
      "cell_type": "code",
      "source": [
        "x=X\n",
        "y=Y\n",
        "z=0\n",
        "learning_rate = 0.01\n",
        "\n",
        "\n",
        "perceptron(x, y, z, learning_rate)"
      ],
      "metadata": {
        "colab": {
          "base_uri": "https://localhost:8080/"
        },
        "id": "oXOLmH7j7gVo",
        "outputId": "f9257169-d3b2-40c2-c128-50fc2ce6e9a5"
      },
      "execution_count": 30,
      "outputs": [
        {
          "output_type": "stream",
          "name": "stdout",
          "text": [
            "Epoch:  [15] error: 12 / 30 [40.00% ]\n",
            "Epoch:  [30] error: 12 / 30 [40.00% ]\n",
            "Epoch:  [45] error: 8 / 30 [26.67% ]\n",
            "Epoch:  [60] error: 7 / 30 [23.33% ]\n",
            "Epoch:  [75] error: 5 / 30 [16.67% ]\n",
            "Epoch:  [90] error: 5 / 30 [16.67% ]\n",
            "Epoch:  [105] error: 7 / 30 [23.33% ]\n",
            "Epoch:  [120] error: 9 / 30 [30.00% ]\n",
            "Epoch:  [135] error: 5 / 30 [16.67% ]\n",
            "Epoch:  [150] error: 5 / 30 [16.67% ]\n",
            "Epoch:  [165] error: 5 / 30 [16.67% ]\n",
            "Epoch:  [180] error: 6 / 30 [20.00% ]\n",
            "Epoch:  [195] error: 4 / 30 [13.33% ]\n",
            "Epoch:  [210] error: 4 / 30 [13.33% ]\n",
            "Epoch:  [225] error: 6 / 30 [20.00% ]\n",
            "Epoch:  [240] error: 3 / 30 [10.00% ]\n",
            "Epoch:  [255] error: 6 / 30 [20.00% ]\n",
            "Epoch:  [270] error: 5 / 30 [16.67% ]\n",
            "Epoch:  [285] error: 6 / 30 [20.00% ]\n",
            "Epoch:  [300] error: 2 / 30 [6.67% ]\n",
            "Epoch:  [315] error: 6 / 30 [20.00% ]\n",
            "Epoch:  [330] error: 3 / 30 [10.00% ]\n"
          ]
        },
        {
          "output_type": "execute_result",
          "data": {
            "text/plain": [
              "(array([[-2.90583716,  1.4278137 ,  2.39816502, -0.67725061]]), 336)"
            ]
          },
          "metadata": {},
          "execution_count": 30
        }
      ]
    },
    {
      "cell_type": "code",
      "source": [
        "#Validation:\n",
        "\n",
        "test = pd.read_excel('/content/Tabela#3.3_RNA.xls')\n",
        "\n",
        "#Adding [-1] collumn as the training set\n",
        "entrance_test = np.array(test)\n",
        "X_test = np.hstack((np.ones((entrance_test.shape[0],1))*(-1),entrance_test))\n",
        "\n",
        "#Getting W from the training\n",
        "W_test = np.copy(W)\n",
        "W_test"
      ],
      "metadata": {
        "colab": {
          "base_uri": "https://localhost:8080/"
        },
        "id": "rRnpbaPJvlMc",
        "outputId": "2a412d7e-ec81-421e-cfd4-688c9f5acebd"
      },
      "execution_count": 31,
      "outputs": [
        {
          "output_type": "execute_result",
          "data": {
            "text/plain": [
              "array([[-2.90583716],\n",
              "       [ 1.4278137 ],\n",
              "       [ 2.39816502],\n",
              "       [-0.67725061]])"
            ]
          },
          "metadata": {},
          "execution_count": 31
        }
      ]
    },
    {
      "cell_type": "code",
      "source": [
        "#Answers:\n",
        "\n",
        "def matrix_bipolar_step(z: np.ndarray):\n",
        "  for i in range(z.shape[0]):\n",
        "    for j in range(z.shape[1]):\n",
        "      if z[i,j]>= 0:\n",
        "        z[i,j] = 1\n",
        "      else:\n",
        "        z[i,j] = -1\n",
        "  return z\n",
        "\n",
        "Y_test = np.dot(X_test,W_test)\n",
        "matrix_bipolar_step(Y_test)"
      ],
      "metadata": {
        "colab": {
          "base_uri": "https://localhost:8080/"
        },
        "id": "gO_e6_KZwAVF",
        "outputId": "b4b2458f-954b-4574-d643-f0f9e9d4cf56"
      },
      "execution_count": 32,
      "outputs": [
        {
          "output_type": "execute_result",
          "data": {
            "text/plain": [
              "array([[-1.],\n",
              "       [ 1.],\n",
              "       [ 1.],\n",
              "       [ 1.],\n",
              "       [ 1.],\n",
              "       [ 1.],\n",
              "       [-1.],\n",
              "       [ 1.],\n",
              "       [-1.],\n",
              "       [-1.]])"
            ]
          },
          "metadata": {},
          "execution_count": 32
        }
      ]
    }
  ]
}